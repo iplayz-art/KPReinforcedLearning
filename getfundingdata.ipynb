{
  "nbformat": 4,
  "nbformat_minor": 0,
  "metadata": {
    "colab": {
      "provenance": []
    },
    "kernelspec": {
      "name": "python3",
      "display_name": "Python 3"
    },
    "language_info": {
      "name": "python"
    }
  },
  "cells": [
    {
      "cell_type": "code",
      "execution_count": 1,
      "metadata": {
        "colab": {
          "base_uri": "https://localhost:8080/"
        },
        "id": "AvYY8vByaZGz",
        "outputId": "b32de7ba-cf6f-4d98-f16c-3070c8a98d8a"
      },
      "outputs": [
        {
          "output_type": "stream",
          "name": "stdout",
          "text": [
            "Reading package lists... Done\n",
            "Building dependency tree... Done\n",
            "Reading state information... Done\n",
            "tor is already the newest version (0.4.6.10-1).\n",
            "0 upgraded, 0 newly installed, 0 to remove and 20 not upgraded.\n",
            " * Starting tor daemon...\n",
            "   ...done.\n",
            "Requirement already satisfied: pyupbit in /usr/local/lib/python3.11/dist-packages (0.2.34)\n",
            "Requirement already satisfied: pyjwt>=2.0.0 in /usr/local/lib/python3.11/dist-packages (from pyupbit) (2.10.1)\n",
            "Requirement already satisfied: pandas in /usr/local/lib/python3.11/dist-packages (from pyupbit) (2.2.2)\n",
            "Requirement already satisfied: requests in /usr/local/lib/python3.11/dist-packages (from pyupbit) (2.32.3)\n",
            "Requirement already satisfied: websockets in /usr/local/lib/python3.11/dist-packages (from pyupbit) (14.2)\n",
            "Requirement already satisfied: numpy>=1.23.2 in /usr/local/lib/python3.11/dist-packages (from pandas->pyupbit) (1.26.4)\n",
            "Requirement already satisfied: python-dateutil>=2.8.2 in /usr/local/lib/python3.11/dist-packages (from pandas->pyupbit) (2.8.2)\n",
            "Requirement already satisfied: pytz>=2020.1 in /usr/local/lib/python3.11/dist-packages (from pandas->pyupbit) (2025.1)\n",
            "Requirement already satisfied: tzdata>=2022.7 in /usr/local/lib/python3.11/dist-packages (from pandas->pyupbit) (2025.1)\n",
            "Requirement already satisfied: charset-normalizer<4,>=2 in /usr/local/lib/python3.11/dist-packages (from requests->pyupbit) (3.4.1)\n",
            "Requirement already satisfied: idna<4,>=2.5 in /usr/local/lib/python3.11/dist-packages (from requests->pyupbit) (3.10)\n",
            "Requirement already satisfied: urllib3<3,>=1.21.1 in /usr/local/lib/python3.11/dist-packages (from requests->pyupbit) (2.3.0)\n",
            "Requirement already satisfied: certifi>=2017.4.17 in /usr/local/lib/python3.11/dist-packages (from requests->pyupbit) (2025.1.31)\n",
            "Requirement already satisfied: six>=1.5 in /usr/local/lib/python3.11/dist-packages (from python-dateutil>=2.8.2->pandas->pyupbit) (1.17.0)\n",
            "Requirement already satisfied: pybit in /usr/local/lib/python3.11/dist-packages (5.9.0)\n",
            "Requirement already satisfied: requests in /usr/local/lib/python3.11/dist-packages (from pybit) (2.32.3)\n",
            "Requirement already satisfied: websocket-client in /usr/local/lib/python3.11/dist-packages (from pybit) (1.8.0)\n",
            "Requirement already satisfied: pycryptodome in /usr/local/lib/python3.11/dist-packages (from pybit) (3.21.0)\n",
            "Requirement already satisfied: charset-normalizer<4,>=2 in /usr/local/lib/python3.11/dist-packages (from requests->pybit) (3.4.1)\n",
            "Requirement already satisfied: idna<4,>=2.5 in /usr/local/lib/python3.11/dist-packages (from requests->pybit) (3.10)\n",
            "Requirement already satisfied: urllib3<3,>=1.21.1 in /usr/local/lib/python3.11/dist-packages (from requests->pybit) (2.3.0)\n",
            "Requirement already satisfied: certifi>=2017.4.17 in /usr/local/lib/python3.11/dist-packages (from requests->pybit) (2025.1.31)\n"
          ]
        }
      ],
      "source": [
        "!apt-get install tor\n",
        "!service tor start\n",
        "!pip install pyupbit\n",
        "!pip install pybit"
      ]
    },
    {
      "cell_type": "code",
      "source": [
        "import socket\n",
        "import socks\n",
        "import requests\n",
        "\n",
        "socks.set_default_proxy(socks.SOCKS5, \"127.0.0.1\", 9050)\n",
        "socket.socket = socks.socksocket\n",
        "print(requests.get('https://httpbin.org/ip').text)"
      ],
      "metadata": {
        "colab": {
          "base_uri": "https://localhost:8080/"
        },
        "id": "pI5-MC-lae1V",
        "outputId": "6fe2cb05-8fe1-4ac9-a717-e05e0847b9b2"
      },
      "execution_count": 2,
      "outputs": [
        {
          "output_type": "stream",
          "name": "stdout",
          "text": [
            "{\n",
            "  \"origin\": \"23.154.177.19\"\n",
            "}\n",
            "\n"
          ]
        }
      ]
    },
    {
      "cell_type": "code",
      "source": [
        "import sqlite3\n",
        "import requests\n",
        "import pandas as pd\n",
        "from datetime import datetime, timedelta, timezone\n",
        "import time\n",
        "import pyupbit\n",
        "from pybit.unified_trading import HTTP\n",
        "import yfinance as yf\n",
        "import ipywidgets as widgets\n",
        "from IPython.display import display"
      ],
      "metadata": {
        "id": "_ItWkBTWagN1"
      },
      "execution_count": 3,
      "outputs": []
    },
    {
      "cell_type": "code",
      "source": [
        "import time\n",
        "from pybit.unified_trading import HTTP\n",
        "import pandas as pd\n",
        "\n",
        "# Bybit API session 초기화 (테스트넷)\n",
        "session = HTTP(testnet=False)\n",
        "\n",
        "def get_price_data(symbols, day, interval):\n",
        "    price_data = {}\n",
        "    price_diff_data = {}  # 가격 차이 데이터를 저장할 딕셔너리 추가\n",
        "\n",
        "    # day를 밀리초로 변환\n",
        "    end_time = int(time.time() * 1000)  # 현재 시간의 밀리초 타임스탬프\n",
        "    start_time = end_time - (day * 24 * 60 * 60 * 1000)  # n일 전 시간 (밀리초)\n",
        "\n",
        "    # 각 심볼에 대해 현물과 선물 가격 데이터를 가져오기\n",
        "    for symbol in symbols:\n",
        "        # 현물 데이터 (spot)\n",
        "        spot_data = []\n",
        "        futures_data = []\n",
        "\n",
        "        # 요청 범위 설정 (600개 이하로 분할)\n",
        "        step_size = 300  # 한 번에 요청할 수 있는 최대 데이터 수\n",
        "        current_start = start_time\n",
        "\n",
        "        while current_start < end_time:\n",
        "            current_end = min(current_start + step_size * 60 * 60 * 1000, end_time)  # 각 요청 범위는 최대 600개의 데이터\n",
        "            print(current_start)\n",
        "            print(current_end)\n",
        "            try:\n",
        "                # 현물 데이터 요청\n",
        "                spot_response = session.get_kline(\n",
        "                    category=\"spot\",   # 현물 카테고리\n",
        "                    symbol=symbol + \"USDT\",  # 심볼 (예: BTCUSDT)\n",
        "                    interval=interval,  # 데이터 간격 (1분, 1시간 등)\n",
        "                    start=current_start,   # 시작 시간\n",
        "                    end=current_end,      # 종료 시간\n",
        "                    limit=step_size,\n",
        "                )\n",
        "\n",
        "                # 선물 데이터 요청\n",
        "                futures_response = session.get_kline(\n",
        "                    category=\"inverse\",  # 선물 카테고리\n",
        "                    symbol=symbol + \"USDT\",  # 심볼 (예: BTCUSD)\n",
        "                    interval=interval,  # 데이터 간격\n",
        "                    start=current_start,   # 시작 시간\n",
        "                    end=current_end,      # 종료 시간\n",
        "                    limit=step_size,\n",
        "                )\n",
        "\n",
        "                # API 응답 확인\n",
        "                if 'result' in spot_response and 'result' in futures_response:\n",
        "                    spot_prices = [(item[0], item[4]) for item in spot_response['result']['list']]\n",
        "                    futures_prices = [(item[0], item[4]) for item in futures_response['result']['list']]\n",
        "\n",
        "                    spot_data.extend(spot_prices)\n",
        "                    futures_data.extend(futures_prices)\n",
        "                else:\n",
        "                    print(f\"Error in data for {symbol}\")\n",
        "                    break\n",
        "\n",
        "                current_start = current_end\n",
        "\n",
        "                time.sleep(5)\n",
        "\n",
        "            except Exception as e:\n",
        "                print(f\"Error fetching data for {symbol}: {e}\")\n",
        "                break\n",
        "\n",
        "        # 현물과 선물 가격 데이터를 타임스탬프를 기준으로 합침\n",
        "        merged_prices = []\n",
        "        price_diff = []  # 가격 차이를 저장할 배열\n",
        "\n",
        "        spot_index = 0\n",
        "        futures_index = 0\n",
        "\n",
        "        while spot_index < len(spot_data) and futures_index < len(futures_data):\n",
        "            # 타임스탬프가 동일한 데이터만 합침\n",
        "            spot_timestamp, spot_close = spot_data[spot_index]\n",
        "            futures_timestamp, futures_close = futures_data[futures_index]\n",
        "\n",
        "            # 문자열을 실수로 변환\n",
        "            spot_close = float(spot_close)\n",
        "            futures_close = float(futures_close)\n",
        "\n",
        "            if spot_timestamp == futures_timestamp:\n",
        "                merged_prices.append([spot_timestamp, spot_close, futures_close])\n",
        "                price_diff.append([spot_timestamp, spot_close - futures_close])  # 가격 차이 계산\n",
        "                spot_index += 1\n",
        "                futures_index += 1\n",
        "            elif spot_timestamp < futures_timestamp:\n",
        "                spot_index += 1\n",
        "            else:\n",
        "                futures_index += 1\n",
        "\n",
        "        # 가격 차이 데이터를 별도로 저장\n",
        "        price_diff_data[symbol] = price_diff\n",
        "        price_data[symbol] = merged_prices\n",
        "\n",
        "\n",
        "    return price_data, price_diff_data\n",
        "\n",
        "\n"
      ],
      "metadata": {
        "id": "kE3x3bVig9bk"
      },
      "execution_count": 42,
      "outputs": []
    },
    {
      "cell_type": "code",
      "source": [
        "from datetime import datetime\n",
        "\n",
        "timestamp_ms = 1711519200000\n",
        "\n",
        "timestamp_s = timestamp_ms / 1000\n",
        "dt_object = datetime.utcfromtimestamp(timestamp_s)\n",
        "\n",
        "formatted_time = dt_object.strftime('%Y-%m-%d %H:%M:%S')\n",
        "\n",
        "print(f\"Converted time: {formatted_time}\")\n"
      ],
      "metadata": {
        "colab": {
          "base_uri": "https://localhost:8080/"
        },
        "id": "-HfPwp3fjPvg",
        "outputId": "fba184f1-f616-4a37-e669-243c8b679af9"
      },
      "execution_count": 34,
      "outputs": [
        {
          "output_type": "stream",
          "name": "stdout",
          "text": [
            "Converted time: 2024-03-27 06:00:00\n"
          ]
        }
      ]
    },
    {
      "cell_type": "code",
      "source": [
        "import time\n",
        "import pandas as pd\n",
        "from datetime import datetime, timedelta\n",
        "from pybit.unified_trading import HTTP\n",
        "\n",
        "session = HTTP(testnet=False)\n",
        "\n",
        "\n",
        "def get_funding_fees(symbols, day):\n",
        "    \"\"\"\n",
        "    Bybit에서 symbols 리스트에 저장된 모든 심볼의 펀딩 비율을 가져와서 데이터프레임으로 저장한다.\n",
        "    요청 수 제한을 초과하지 않도록 요청을 나눠서 한다.\n",
        "    \"\"\"\n",
        "    end_time = int(time.time() * 1000)\n",
        "    start_time = end_time - (day * 24 * 60 * 60 * 1000)\n",
        "    all_funding_data = []\n",
        "\n",
        "    for symbol in symbols:\n",
        "        symbol_perp = f\"{symbol}PERP\"\n",
        "        funding_data = []\n",
        "\n",
        "        try:\n",
        "            step_size = 600\n",
        "            current_start = start_time\n",
        "\n",
        "\n",
        "            while current_start < end_time:\n",
        "                current_end = min(current_start + step_size * 60 * 60 * 1000, end_time)\n",
        "                response = session.get_funding_rate_history(\n",
        "                    category=\"linear\",\n",
        "                    symbol=symbol_perp,\n",
        "                    startTime=current_start,\n",
        "                    endTime=current_end,\n",
        "                    limit=600\n",
        "                )\n",
        "\n",
        "                if \"result\" in response and response[\"result\"][\"list\"]:\n",
        "                    for entry in response[\"result\"][\"list\"]:\n",
        "                        funding_rate = float(entry[\"fundingRate\"])\n",
        "                        timestamp = int(entry[\"fundingRateTimestamp\"]) // 1000\n",
        "                        funding_time = datetime.utcfromtimestamp(timestamp).strftime('%Y-%m-%d %H:%M:%S')\n",
        "\n",
        "                        funding_data.append([funding_time, funding_rate])\n",
        "\n",
        "                current_start = current_end\n",
        "\n",
        "                time.sleep(5)\n",
        "\n",
        "            funding_df = pd.DataFrame(funding_data, columns=[\"Funding Time\", \"Funding Rate\"])\n",
        "            funding_df[\"Funding Time\"] = pd.to_datetime(funding_df[\"Funding Time\"])\n",
        "\n",
        "            all_funding_data.append(funding_df)\n",
        "\n",
        "            print(f\"Funding fees merged for {symbol}\")\n",
        "\n",
        "        except Exception as e:\n",
        "            print(f\"Error fetching funding rate for {symbol}: {e}\")\n",
        "\n",
        "    if all_funding_data:\n",
        "        final_funding_df = pd.concat(all_funding_data, ignore_index=True)\n",
        "        return final_funding_df\n",
        "    else:\n",
        "        return pd.DataFrame(columns=[\"Funding Time\", \"Funding Rate\"])\n"
      ],
      "metadata": {
        "id": "h2oit6y-agoJ"
      },
      "execution_count": 43,
      "outputs": []
    },
    {
      "cell_type": "code",
      "source": [
        "symbols = [\"BTC\"]\n",
        "day = 50\n",
        "interval = 60\n",
        "\n",
        "data, price_diff = get_price_data(symbols, day, interval)\n",
        "\n",
        "for symbol in symbols:\n",
        "    print(f\"Price data for {symbol}:\")\n",
        "    merged_df = pd.DataFrame(data[symbol], columns=[\"timestamp\", \"spot_close\", \"futures_close\"])\n",
        "    print(merged_df.head())\n",
        "    print(f\"Price difference data for {symbol}:\")\n",
        "    diff_df = pd.DataFrame(price_diff[symbol], columns=[\"timestamp\", \"price_diff\"])\n",
        "    print(diff_df)\n",
        "\n",
        "funding_fees_df = get_funding_fees(symbols, day)\n",
        "\n",
        "print(funding_fees_df)"
      ],
      "metadata": {
        "colab": {
          "base_uri": "https://localhost:8080/"
        },
        "id": "_N2nQ_9PxrG-",
        "outputId": "8684701b-330a-4654-beaa-ba5ea6fceef3"
      },
      "execution_count": 44,
      "outputs": [
        {
          "output_type": "stream",
          "name": "stdout",
          "text": [
            "1735138427064\n",
            "1736218427064\n",
            "Error fetching data for BTC: You have breached the ip rate limit or your ip is from the usa. (ErrCode: 403) (ErrTime: 14:53:48).\n",
            "Request → GET https://api.bybit.com/v5/market/kline: category=spot&end=1736218427064&interval=60&limit=300&start=1735138427064&symbol=BTCUSDT.\n",
            "Price data for BTC:\n",
            "Empty DataFrame\n",
            "Columns: [timestamp, spot_close, futures_close]\n",
            "Index: []\n",
            "Price difference data for BTC:\n",
            "Empty DataFrame\n",
            "Columns: [timestamp, price_diff]\n",
            "Index: []\n",
            "Error fetching funding rate for BTC: You have breached the ip rate limit or your ip is from the usa. (ErrCode: 403) (ErrTime: 14:53:48).\n",
            "Request → GET https://api.bybit.com/v5/market/funding/history: category=linear&endTime=1737298428190&limit=600&startTime=1735138428190&symbol=BTCPERP.\n",
            "Empty DataFrame\n",
            "Columns: [Funding Time, Funding Rate]\n",
            "Index: []\n"
          ]
        }
      ]
    },
    {
      "cell_type": "code",
      "source": [
        "import numpy as np\n",
        "\n",
        "def tanh(x):\n",
        "    return np.tanh(x)\n",
        "\n",
        "def log_scale(x, base=10):\n",
        "    return np.log(x + 1e-8) / np.log(base)\n",
        "\n",
        "def getState(data, t, n):\n",
        "    d = t - n + 1\n",
        "    block = data[d:t + 1] if d >= 0 else -d * [data[0]] + data[0:t + 1]\n",
        "\n",
        "    res_price = []\n",
        "    res_funding = []\n",
        "\n",
        "    for i in range(n - 1):\n",
        "        price_diff = log_scale(block[i + 1][0]) - log_scale(block[i][0])\n",
        "        res_price.append(tanh(price_diff))\n",
        "\n",
        "        funding_diff = block[i + 1][1] - block[i][1]\n",
        "        res_funding.append(tanh(funding_diff))\n",
        "\n",
        "    return np.array([res_price + res_funding])\n",
        "\n",
        "data = [\n",
        "    [100000000, 0.02],\n",
        "    [102000000, 0.03],\n",
        "    [105000000, 0.02],\n",
        "    [107000000, 0.01],\n",
        "    [110000000, 0.05],\n",
        "    [112000000, 0.04],\n",
        "]\n",
        "\n",
        "t = 5\n",
        "n = 2\n",
        "\n",
        "state = getState(data, t, n)\n",
        "print(state)\n"
      ],
      "metadata": {
        "colab": {
          "base_uri": "https://localhost:8080/"
        },
        "id": "TQcU5zEupyOC",
        "outputId": "ad886712-5aee-4f0d-d395-2e28f47531d1"
      },
      "execution_count": 20,
      "outputs": [
        {
          "output_type": "stream",
          "name": "stdout",
          "text": [
            "[[ 0.00782518 -0.00999967]]\n"
          ]
        }
      ]
    },
    {
      "cell_type": "code",
      "source": [
        "import matplotlib.pyplot as plt\n",
        "\n",
        "data = price_diff.iloc[:, [1]]\n",
        "\n",
        "symbol = \"BTC\"\n",
        "price_diff_df = pd.DataFrame(price_diff[symbol], columns=[\"timestamp\", \"price_diff\"])\n",
        "\n",
        "plt.figure(figsize=(10, 6))\n",
        "plt.plot(price_diff_df['timestamp'], price_diff_df['price_diff'], label=f'{symbol} Price Difference')\n",
        "plt.xlabel(\"Timestamp\")\n",
        "plt.ylabel(\"Price Difference\")\n",
        "plt.title(f\"Price Difference Between Spot and Futures for {symbol}\")\n",
        "plt.grid(True)\n",
        "plt.legend()\n",
        "plt.xticks(rotation=45)\n",
        "plt.show()"
      ],
      "metadata": {
        "colab": {
          "base_uri": "https://localhost:8080/",
          "height": 153
        },
        "id": "Gar_Z50Bm7Pg",
        "outputId": "47febd79-7f9f-4e21-9271-2f8f70c202f7"
      },
      "execution_count": 7,
      "outputs": [
        {
          "output_type": "error",
          "ename": "NameError",
          "evalue": "name 'price_diff' is not defined",
          "traceback": [
            "\u001b[0;31m---------------------------------------------------------------------------\u001b[0m",
            "\u001b[0;31mNameError\u001b[0m                                 Traceback (most recent call last)",
            "\u001b[0;32m<ipython-input-7-82ce68fa473c>\u001b[0m in \u001b[0;36m<cell line: 0>\u001b[0;34m()\u001b[0m\n\u001b[0;32m----> 1\u001b[0;31m \u001b[0mdata\u001b[0m \u001b[0;34m=\u001b[0m \u001b[0mprice_diff\u001b[0m\u001b[0;34m.\u001b[0m\u001b[0miloc\u001b[0m\u001b[0;34m[\u001b[0m\u001b[0;34m:\u001b[0m\u001b[0;34m,\u001b[0m \u001b[0;34m[\u001b[0m\u001b[0;36m1\u001b[0m\u001b[0;34m]\u001b[0m\u001b[0;34m]\u001b[0m\u001b[0;34m\u001b[0m\u001b[0;34m\u001b[0m\u001b[0m\n\u001b[0m",
            "\u001b[0;31mNameError\u001b[0m: name 'price_diff' is not defined"
          ]
        }
      ]
    },
    {
      "cell_type": "code",
      "source": [
        "import pandas as pd\n",
        "import matplotlib.pyplot as plt\n",
        "import os\n",
        "\n",
        "symbols = [\"BTC\", \"ETH\"]\n",
        "\n",
        "def plot_funding_rates(symbols):\n",
        "    \"\"\"\n",
        "    저장된 CSV 파일을 불러와 각 심볼별로 펀딩 비율을 그래프로 표시한다.\n",
        "    \"\"\"\n",
        "    plt.figure(figsize=(12, 6))\n",
        "\n",
        "    for symbol in symbols:\n",
        "        csv_filename = f\"{symbol}_funding_fees.csv\"\n",
        "\n",
        "        if not os.path.exists(csv_filename):\n",
        "            print(f\"파일 없음: {csv_filename}\")\n",
        "            continue\n",
        "\n",
        "        df = pd.read_csv(csv_filename, parse_dates=[\"Funding Time\"])\n",
        "        df = df.sort_values(\"Funding Time\")\n",
        "        plt.plot(df[\"Funding Time\"], df[\"Funding Rate\"], label=symbol, marker=\"o\")\n",
        "\n",
        "    plt.xlabel(\"Date\")\n",
        "    plt.ylabel(\"Funding Rate\")\n",
        "    plt.title(\"Funding Rate History\")\n",
        "    plt.legend()\n",
        "    plt.xticks(rotation=45)\n",
        "    plt.grid()\n",
        "    plt.show()\n",
        "\n",
        "plot_funding_rates(symbols)\n"
      ],
      "metadata": {
        "colab": {
          "base_uri": "https://localhost:8080/",
          "height": 530
        },
        "id": "IHhRsubkeZDB",
        "outputId": "1da679c0-0004-4a8b-d5c3-4880ab0c60ff"
      },
      "execution_count": null,
      "outputs": [
        {
          "output_type": "display_data",
          "data": {
            "text/plain": [
              "<Figure size 1200x600 with 1 Axes>"
            ],
            "image/png": "[encoded data removed]"
          },
          "metadata": {}
        }
      ]
    }
  ]
}